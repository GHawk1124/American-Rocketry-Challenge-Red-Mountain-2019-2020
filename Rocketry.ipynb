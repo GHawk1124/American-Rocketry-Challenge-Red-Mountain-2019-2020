{
 "cells": [
  {
   "cell_type": "markdown",
   "metadata": {},
   "source": [
    "# Rocketry Physics"
   ]
  },
  {
   "cell_type": "markdown",
   "metadata": {},
   "source": [
    "### Tsiolkovsky Rocket Equation"
   ]
  },
  {
   "cell_type": "markdown",
   "metadata": {},
   "source": [
    "The Tsiolkovsky Equation describes an aerodynamic item for which thrust is produced at the bottom of the item produceing some thrust $v_e$ upward with a specific impulse $I_{sp}$. The $v_e$ is found by using $I_{sp}g_0$. $m_0$ and $m_f$ are the initial mass including propellant, the \"wet\" mass, and the velocity of the rocket without the propellant, the \"dry\" mass, respectively. This gives us the equation for $\\Delta v$. Shown By: \n",
    "\n",
    "\\begin{equation} {\\Delta}v = v_{e} \\ln{\\frac{m_{0}}{m_{f}}} = I_{sp} g_{0} \\ln{\\frac{m_{0}}{m_{f}}} \\end{equation}"
   ]
  },
  {
   "cell_type": "markdown",
   "metadata": {},
   "source": [
    "Where:  \n",
    "$\\Delta v$ is the maximum change of velocity of the vehicle (with no external forces acting).  \n",
    "$m_{0}$ is the initial total mass, including propellant, also known as wet mass.  \n",
    "$m_{f}$ is the final total mass without propellant, also known as dry mass.  \n",
    "$v_{e}$ = $I_{sp} g_0$ is the effective exhaust velocity, where:  \n",
    "$I_{sp}$ is the specific impulse in dimension of time.  \n",
    "$g_0$ is standard gravity.  \n",
    "$\\ln$ is the natural logarithm function."
   ]
  },
  {
   "cell_type": "code",
   "execution_count": 1,
   "metadata": {},
   "outputs": [],
   "source": [
    "import matplotlib.pyplot\n",
    "import numpy"
   ]
  },
  {
   "cell_type": "markdown",
   "metadata": {},
   "source": [
    "### Celestial Body\n",
    "A Celestial Body is the object we define for the rocket to take off from. This is the body that produces the gravitational pull on the rocket. It's atmosphere defines the air density used for the drag force on the Rocket. It has some arbitrary position in space, some radius, some mass, a gravitational acceleration constant, and some air density.\n",
    "\n",
    "A Celestial Body must have many components in order to use our mathematics to obtain substantial results.  \n",
    "\n",
    "Params:  \n",
    "$xpos$ is the x position in our made up coordinate system.  \n",
    "$ypos$ is the y position in our made up coordinate system.  \n",
    "$zpos$ is the z position in our made up coordinate system.  \n",
    "$radius$ is the radius of the planet at the location on the planet.  \n",
    "$airDensity$ is the Air Density on the Planet."
   ]
  },
  {
   "cell_type": "code",
   "execution_count": 2,
   "metadata": {},
   "outputs": [],
   "source": [
    "class CelestialBody:\n",
    "    def __init__(self, xpos, ypos, zpos, radius, mass, gravAccelConst, airDensity):\n",
    "        self.xpos, self.ypos, self.zpos = xpos, ypos, zpos\n",
    "        self.radius = radius\n",
    "        self.mass = mass\n",
    "        self.gravAccelConst = gravAccelConst #9.80665\n",
    "        self.airDensity = airDensity"
   ]
  },
  {
   "cell_type": "markdown",
   "metadata": {},
   "source": [
    "### Rocket\n",
    "This is the main rocket class that we define the parameters of our rocket. We give it some physical descriptors such as it's arbitrary position in space, it's mass before and after fuel consumption, and the rockets specific impulse.\n",
    "\n",
    "Params:  \n",
    "$xpos$ is the x position in our made up coordinate system.  \n",
    "$ypos$ is the y position in our made up coordinate system.  \n",
    "$zpos$ is the z position in our made up coordinate system.  \n",
    "$wetMass$ is the mass of the rocket with propellant.  \n",
    "$dryMass$ is the mass of the rocket without propellant.  \n",
    "$specificImpulse$ is the specific impulse in dimension of time. "
   ]
  },
  {
   "cell_type": "code",
   "execution_count": 3,
   "metadata": {},
   "outputs": [],
   "source": [
    "class Rocket:\n",
    "    def __init__(self, xpos, ypos, zpos, wetMass, dryMass, specificImpulse):\n",
    "        self.xpos, self.ypos, self.zpos = xpos, ypos, zpos\n",
    "        self.wetMass = wetMass\n",
    "        self.currentMass = wetMass\n",
    "        self.dryMass = dryMass\n",
    "        self.specificImpulse = specificImpulse\n",
    "        self.v_e = None\n",
    "        self.deltaV = 0\n",
    "        \n",
    "    def mass(self):\n",
    "        self.currentMass = 0\n",
    "        \n",
    "    def launchIdeal(self, CelestialBody):\n",
    "        self.v_e = self.specificImpulse * CelestialBody.gravAccelConst\n",
    "        self.deltaV = self.v_e * numpy.log(self.wetMass / self.dryMass)\n",
    "        return self.deltaV"
   ]
  },
  {
   "cell_type": "markdown",
   "metadata": {},
   "source": [
    "### Forces"
   ]
  },
  {
   "cell_type": "markdown",
   "metadata": {},
   "source": [
    "#### Force of Thrust"
   ]
  },
  {
   "cell_type": "markdown",
   "metadata": {},
   "source": [
    "#### Force of Drag\n",
    "Since we know that the Force due to drag is shown as: \n",
    "\n",
    "\\begin{equation} F_{Drag} = \\frac{1}{2}C_{D} A p v^2 \\end{equation}  \n",
    "We can calculate the force of drag on each axis to find a total Drag vector."
   ]
  },
  {
   "cell_type": "code",
   "execution_count": 4,
   "metadata": {},
   "outputs": [],
   "source": [
    "def forceDrag(dragCoefficient, area, airDensity, rocketVelocity):\n",
    "    return (dragCoefficient * area * airDensity * (rocketVelocity**2)) / 2"
   ]
  },
  {
   "cell_type": "markdown",
   "metadata": {},
   "source": [
    "### Rocket Acceleration\n",
    "Since we know that $F_{net} = ma$, we can find the acceleration of the rocket to be as shown:\n",
    "\n",
    "\\begin{equation} a_{R_{x}} = \\frac{F_{T_{x}} - F_{Drag_{x}} - F_{G}}{m_{R}} \\end{equation} \n",
    "\n",
    "\\begin{equation} a_{R_{y}} = \\frac{F_{T_{y}} - F_{Drag_{y}} - F_{G}}{m_{R}} \\end{equation}\n",
    "\n",
    "\\begin{equation} a_{R_{z}} = \\frac{F_{T_{z}} - F_{Drag_{z}} - F_{G}}{m_{R}} \\end{equation}\n",
    "\n",
    "\\begin{equation} a_{R} = \\sqrt{{a_{R_{x}}}^2 + {a_{R_{y}}}^2 + {a_{R_{z}}}^2} \\end{equation}\n",
    "Where:  \n",
    "$a_{r_{x}}$ is the acceleration of the rocket in the left/right direction.  \n",
    "$a_{r_{y}}$ is the acceleration of the rocket in the upwards direction.  \n",
    "$a_{r_{z}}$ is the acceleration of the rocket in the forward/backward direction.  \n",
    "$F_{T_{x}}$ is the force of thrust produced by the rocket in the left/right direction.  \n",
    "$F_{T_{y}}$ is the force of thrust produced by the rocket in the upwards direction.  \n",
    "$F_{T_{z}}$ is the force of thrust produced by the rocket in the forward/backward direction.  \n",
    "$F_{Drag_{x}}$ is the force of Drag in the left/right direction.  \n",
    "$F_{Drag_{y}}$ is the force of Drag towards the ground.  \n",
    "$F_{Drag_{z}}$ is the force of Drag in the forward/backward direction.  \n",
    "$F_{G}$ is the force of Gravity back toward the ground.  \n",
    "$m_{R}$ is the mass of the Rocket.  \n",
    "These are the forces acting on the rocket which cause it to accelerate in any given direction."
   ]
  },
  {
   "cell_type": "code",
   "execution_count": 5,
   "metadata": {},
   "outputs": [],
   "source": [
    "def accelVec(celestialBody, rocket):\n",
    "    pass"
   ]
  },
  {
   "cell_type": "code",
   "execution_count": 6,
   "metadata": {},
   "outputs": [
    {
     "name": "stdout",
     "output_type": "stream",
     "text": [
      "Ideal End Rocket Velocity:  1933.0322025412222 m/s\n"
     ]
    }
   ],
   "source": [
    "def Main():\n",
    "    earth = CelestialBody(0, 0, 0, 6371009, (5.972 * 10**24), 9.80665, 1.23)\n",
    "    RMrocket = Rocket(earth.xpos, (earth.ypos + earth.radius), earth.zpos, 0.02684615384, 0.00241615384, 81.86)\n",
    "    print(\"Ideal End Rocket Velocity: \", RMrocket.launchIdeal(earth), \"m/s\")\n",
    "Main()"
   ]
  },
  {
   "cell_type": "code",
   "execution_count": null,
   "metadata": {},
   "outputs": [],
   "source": []
  }
 ],
 "metadata": {
  "kernelspec": {
   "display_name": "Python 3",
   "language": "python",
   "name": "python3"
  },
  "language_info": {
   "codemirror_mode": {
    "name": "ipython",
    "version": 3
   },
   "file_extension": ".py",
   "mimetype": "text/x-python",
   "name": "python",
   "nbconvert_exporter": "python",
   "pygments_lexer": "ipython3",
   "version": "3.7.3"
  }
 },
 "nbformat": 4,
 "nbformat_minor": 2
}
